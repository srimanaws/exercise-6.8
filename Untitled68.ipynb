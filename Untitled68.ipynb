{
 "cells": [
  {
   "cell_type": "code",
   "execution_count": 8,
   "id": "a734942b-e5af-4074-b877-2d33ebe8f2b2",
   "metadata": {},
   "outputs": [
    {
     "name": "stdin",
     "output_type": "stream",
     "text": [
      "Enter a check amount less than 1000:  475.20\n"
     ]
    },
    {
     "name": "stdout",
     "output_type": "stream",
     "text": [
      "FOUR HUNDRED SEVENTY FIVE AND 20/100\n"
     ]
    }
   ],
   "source": [
    "#labExercise 6.8 by sriman\n",
    "# Dictionary to map numbers to words\n",
    "num_to_words = {\n",
    "    0: \"ZERO\", 1: \"ONE\", 2: \"TWO\", 3: \"THREE\", 4: \"FOUR\", \n",
    "    5: \"FIVE\", 6: \"SIX\", 7: \"SEVEN\", 8: \"EIGHT\", 9: \"NINE\", \n",
    "    10: \"TEN\", 11: \"ELEVEN\", 12: \"TWELVE\", 13: \"THIRTEEN\", \n",
    "    14: \"FOURTEEN\", 15: \"FIFTEEN\", 16: \"SIXTEEN\", 17: \"SEVENTEEN\", \n",
    "    18: \"EIGHTEEN\", 19: \"NINETEEN\", 20: \"TWENTY\", 30: \"THIRTY\", \n",
    "    40: \"FORTY\", 50: \"FIFTY\", 60: \"SIXTY\", 70: \"SEVENTY\", \n",
    "    80: \"EIGHTY\", 90: \"NINETY\"\n",
    "}\n",
    "\n",
    "# Function to convert number to words\n",
    "def number_to_words(n):\n",
    "    if n == 0:\n",
    "        return \"\"\n",
    "    elif n <= 19:\n",
    "        return num_to_words[n]\n",
    "    elif n <= 99:\n",
    "        tens, ones = divmod(n, 10)\n",
    "        return num_to_words[tens * 10] + (\" \" + num_to_words[ones] if ones else \"\")\n",
    "    elif n <= 999:\n",
    "        hundreds, remainder = divmod(n, 100)\n",
    "        return num_to_words[hundreds] + \" HUNDRED\" + (\" \" + number_to_words(remainder) if remainder else \"\")\n",
    "\n",
    "# Main function to convert check amount to words\n",
    "def check_amount_in_words(amount):\n",
    "    # Separate the whole number part and decimal part\n",
    "    dollars, cents = map(int, str(f\"{amount:.2f}\").split('.'))\n",
    "    \n",
    "    # Convert the dollars part to words\n",
    "    words = number_to_words(dollars).strip()\n",
    "    \n",
    "    # Form the final string\n",
    "    if dollars == 0:\n",
    "        return f\"ZERO AND {cents}/100\"\n",
    "    return f\"{words} AND {cents}/100\"\n",
    "\n",
    "# Example usage\n",
    "amount = float(input(\"Enter a check amount less than 1000: \"))\n",
    "print(check_amount_in_words(amount))\n"
   ]
  },
  {
   "cell_type": "code",
   "execution_count": null,
   "id": "4ad3052b-5c7a-441d-ad8f-cce39c756fef",
   "metadata": {},
   "outputs": [],
   "source": []
  }
 ],
 "metadata": {
  "kernelspec": {
   "display_name": "Python 3 (ipykernel)",
   "language": "python",
   "name": "python3"
  },
  "language_info": {
   "codemirror_mode": {
    "name": "ipython",
    "version": 3
   },
   "file_extension": ".py",
   "mimetype": "text/x-python",
   "name": "python",
   "nbconvert_exporter": "python",
   "pygments_lexer": "ipython3",
   "version": "3.12.4"
  }
 },
 "nbformat": 4,
 "nbformat_minor": 5
}
